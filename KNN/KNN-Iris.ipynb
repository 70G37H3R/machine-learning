{
 "cells": [
  {
   "cell_type": "markdown",
   "metadata": {},
   "source": [
    "## import libraries"
   ]
  },
  {
   "cell_type": "code",
   "execution_count": 2,
   "metadata": {},
   "outputs": [],
   "source": [
    "import pandas as pd\n",
    "import numpy as np\n",
    "from math import sqrt"
   ]
  },
  {
   "cell_type": "markdown",
   "metadata": {},
   "source": [
    "### read csv"
   ]
  },
  {
   "cell_type": "code",
   "execution_count": 3,
   "metadata": {},
   "outputs": [],
   "source": [
    "df_train = pd.read_csv(\"data/iris/iris_train.csv\", delimiter=',', header=None, names=[i for i in range(5)], index_col=False)"
   ]
  },
  {
   "cell_type": "code",
   "execution_count": 4,
   "metadata": {},
   "outputs": [],
   "source": [
    "df_test = pd.read_csv(\"data/iris/iris_test.csv\", delimiter=',', header=None, names=[i for i in range(5)], index_col=False)"
   ]
  },
  {
   "cell_type": "markdown",
   "metadata": {},
   "source": [
    "### exploratory"
   ]
  },
  {
   "cell_type": "code",
   "execution_count": 5,
   "metadata": {},
   "outputs": [
    {
     "data": {
      "text/html": [
       "<div>\n",
       "<style scoped>\n",
       "    .dataframe tbody tr th:only-of-type {\n",
       "        vertical-align: middle;\n",
       "    }\n",
       "\n",
       "    .dataframe tbody tr th {\n",
       "        vertical-align: top;\n",
       "    }\n",
       "\n",
       "    .dataframe thead th {\n",
       "        text-align: right;\n",
       "    }\n",
       "</style>\n",
       "<table border=\"1\" class=\"dataframe\">\n",
       "  <thead>\n",
       "    <tr style=\"text-align: right;\">\n",
       "      <th></th>\n",
       "      <th>0</th>\n",
       "      <th>1</th>\n",
       "      <th>2</th>\n",
       "      <th>3</th>\n",
       "      <th>4</th>\n",
       "    </tr>\n",
       "  </thead>\n",
       "  <tbody>\n",
       "    <tr>\n",
       "      <th>0</th>\n",
       "      <td>7.7</td>\n",
       "      <td>3.8</td>\n",
       "      <td>6.7</td>\n",
       "      <td>2.2</td>\n",
       "      <td>2</td>\n",
       "    </tr>\n",
       "    <tr>\n",
       "      <th>1</th>\n",
       "      <td>5.0</td>\n",
       "      <td>3.4</td>\n",
       "      <td>1.6</td>\n",
       "      <td>0.4</td>\n",
       "      <td>0</td>\n",
       "    </tr>\n",
       "    <tr>\n",
       "      <th>2</th>\n",
       "      <td>6.7</td>\n",
       "      <td>3.0</td>\n",
       "      <td>5.0</td>\n",
       "      <td>1.7</td>\n",
       "      <td>1</td>\n",
       "    </tr>\n",
       "    <tr>\n",
       "      <th>3</th>\n",
       "      <td>5.9</td>\n",
       "      <td>3.0</td>\n",
       "      <td>4.2</td>\n",
       "      <td>1.5</td>\n",
       "      <td>1</td>\n",
       "    </tr>\n",
       "    <tr>\n",
       "      <th>4</th>\n",
       "      <td>6.6</td>\n",
       "      <td>2.9</td>\n",
       "      <td>4.6</td>\n",
       "      <td>1.3</td>\n",
       "      <td>1</td>\n",
       "    </tr>\n",
       "  </tbody>\n",
       "</table>\n",
       "</div>"
      ],
      "text/plain": [
       "     0    1    2    3  4\n",
       "0  7.7  3.8  6.7  2.2  2\n",
       "1  5.0  3.4  1.6  0.4  0\n",
       "2  6.7  3.0  5.0  1.7  1\n",
       "3  5.9  3.0  4.2  1.5  1\n",
       "4  6.6  2.9  4.6  1.3  1"
      ]
     },
     "execution_count": 5,
     "metadata": {},
     "output_type": "execute_result"
    }
   ],
   "source": [
    "df_train.head(5)"
   ]
  },
  {
   "cell_type": "code",
   "execution_count": 6,
   "metadata": {},
   "outputs": [
    {
     "data": {
      "text/html": [
       "<div>\n",
       "<style scoped>\n",
       "    .dataframe tbody tr th:only-of-type {\n",
       "        vertical-align: middle;\n",
       "    }\n",
       "\n",
       "    .dataframe tbody tr th {\n",
       "        vertical-align: top;\n",
       "    }\n",
       "\n",
       "    .dataframe thead th {\n",
       "        text-align: right;\n",
       "    }\n",
       "</style>\n",
       "<table border=\"1\" class=\"dataframe\">\n",
       "  <thead>\n",
       "    <tr style=\"text-align: right;\">\n",
       "      <th></th>\n",
       "      <th>0</th>\n",
       "      <th>1</th>\n",
       "      <th>2</th>\n",
       "      <th>3</th>\n",
       "      <th>4</th>\n",
       "    </tr>\n",
       "  </thead>\n",
       "  <tbody>\n",
       "    <tr>\n",
       "      <th>0</th>\n",
       "      <td>5.6</td>\n",
       "      <td>2.9</td>\n",
       "      <td>3.6</td>\n",
       "      <td>1.3</td>\n",
       "      <td>1</td>\n",
       "    </tr>\n",
       "    <tr>\n",
       "      <th>1</th>\n",
       "      <td>6.4</td>\n",
       "      <td>3.2</td>\n",
       "      <td>4.5</td>\n",
       "      <td>1.5</td>\n",
       "      <td>1</td>\n",
       "    </tr>\n",
       "    <tr>\n",
       "      <th>2</th>\n",
       "      <td>5.1</td>\n",
       "      <td>3.8</td>\n",
       "      <td>1.9</td>\n",
       "      <td>0.4</td>\n",
       "      <td>0</td>\n",
       "    </tr>\n",
       "    <tr>\n",
       "      <th>3</th>\n",
       "      <td>4.6</td>\n",
       "      <td>3.2</td>\n",
       "      <td>1.4</td>\n",
       "      <td>0.2</td>\n",
       "      <td>0</td>\n",
       "    </tr>\n",
       "    <tr>\n",
       "      <th>4</th>\n",
       "      <td>5.2</td>\n",
       "      <td>3.5</td>\n",
       "      <td>1.5</td>\n",
       "      <td>0.2</td>\n",
       "      <td>0</td>\n",
       "    </tr>\n",
       "  </tbody>\n",
       "</table>\n",
       "</div>"
      ],
      "text/plain": [
       "     0    1    2    3  4\n",
       "0  5.6  2.9  3.6  1.3  1\n",
       "1  6.4  3.2  4.5  1.5  1\n",
       "2  5.1  3.8  1.9  0.4  0\n",
       "3  4.6  3.2  1.4  0.2  0\n",
       "4  5.2  3.5  1.5  0.2  0"
      ]
     },
     "execution_count": 6,
     "metadata": {},
     "output_type": "execute_result"
    }
   ],
   "source": [
    "df_test.head(5)"
   ]
  },
  {
   "cell_type": "markdown",
   "metadata": {},
   "source": [
    "### get features"
   ]
  },
  {
   "cell_type": "code",
   "execution_count": 7,
   "metadata": {},
   "outputs": [
    {
     "data": {
      "text/html": [
       "<div>\n",
       "<style scoped>\n",
       "    .dataframe tbody tr th:only-of-type {\n",
       "        vertical-align: middle;\n",
       "    }\n",
       "\n",
       "    .dataframe tbody tr th {\n",
       "        vertical-align: top;\n",
       "    }\n",
       "\n",
       "    .dataframe thead th {\n",
       "        text-align: right;\n",
       "    }\n",
       "</style>\n",
       "<table border=\"1\" class=\"dataframe\">\n",
       "  <thead>\n",
       "    <tr style=\"text-align: right;\">\n",
       "      <th></th>\n",
       "      <th>0</th>\n",
       "      <th>1</th>\n",
       "      <th>2</th>\n",
       "      <th>3</th>\n",
       "    </tr>\n",
       "  </thead>\n",
       "  <tbody>\n",
       "    <tr>\n",
       "      <th>0</th>\n",
       "      <td>7.7</td>\n",
       "      <td>3.8</td>\n",
       "      <td>6.7</td>\n",
       "      <td>2.2</td>\n",
       "    </tr>\n",
       "    <tr>\n",
       "      <th>1</th>\n",
       "      <td>5.0</td>\n",
       "      <td>3.4</td>\n",
       "      <td>1.6</td>\n",
       "      <td>0.4</td>\n",
       "    </tr>\n",
       "    <tr>\n",
       "      <th>2</th>\n",
       "      <td>6.7</td>\n",
       "      <td>3.0</td>\n",
       "      <td>5.0</td>\n",
       "      <td>1.7</td>\n",
       "    </tr>\n",
       "    <tr>\n",
       "      <th>3</th>\n",
       "      <td>5.9</td>\n",
       "      <td>3.0</td>\n",
       "      <td>4.2</td>\n",
       "      <td>1.5</td>\n",
       "    </tr>\n",
       "    <tr>\n",
       "      <th>4</th>\n",
       "      <td>6.6</td>\n",
       "      <td>2.9</td>\n",
       "      <td>4.6</td>\n",
       "      <td>1.3</td>\n",
       "    </tr>\n",
       "  </tbody>\n",
       "</table>\n",
       "</div>"
      ],
      "text/plain": [
       "     0    1    2    3\n",
       "0  7.7  3.8  6.7  2.2\n",
       "1  5.0  3.4  1.6  0.4\n",
       "2  6.7  3.0  5.0  1.7\n",
       "3  5.9  3.0  4.2  1.5\n",
       "4  6.6  2.9  4.6  1.3"
      ]
     },
     "execution_count": 7,
     "metadata": {},
     "output_type": "execute_result"
    }
   ],
   "source": [
    "x_train = df_train.iloc[:,:-1]\n",
    "x_train.head(5)"
   ]
  },
  {
   "cell_type": "code",
   "execution_count": 8,
   "metadata": {},
   "outputs": [
    {
     "data": {
      "text/html": [
       "<div>\n",
       "<style scoped>\n",
       "    .dataframe tbody tr th:only-of-type {\n",
       "        vertical-align: middle;\n",
       "    }\n",
       "\n",
       "    .dataframe tbody tr th {\n",
       "        vertical-align: top;\n",
       "    }\n",
       "\n",
       "    .dataframe thead th {\n",
       "        text-align: right;\n",
       "    }\n",
       "</style>\n",
       "<table border=\"1\" class=\"dataframe\">\n",
       "  <thead>\n",
       "    <tr style=\"text-align: right;\">\n",
       "      <th></th>\n",
       "      <th>0</th>\n",
       "      <th>1</th>\n",
       "      <th>2</th>\n",
       "      <th>3</th>\n",
       "    </tr>\n",
       "  </thead>\n",
       "  <tbody>\n",
       "    <tr>\n",
       "      <th>0</th>\n",
       "      <td>5.6</td>\n",
       "      <td>2.9</td>\n",
       "      <td>3.6</td>\n",
       "      <td>1.3</td>\n",
       "    </tr>\n",
       "    <tr>\n",
       "      <th>1</th>\n",
       "      <td>6.4</td>\n",
       "      <td>3.2</td>\n",
       "      <td>4.5</td>\n",
       "      <td>1.5</td>\n",
       "    </tr>\n",
       "    <tr>\n",
       "      <th>2</th>\n",
       "      <td>5.1</td>\n",
       "      <td>3.8</td>\n",
       "      <td>1.9</td>\n",
       "      <td>0.4</td>\n",
       "    </tr>\n",
       "    <tr>\n",
       "      <th>3</th>\n",
       "      <td>4.6</td>\n",
       "      <td>3.2</td>\n",
       "      <td>1.4</td>\n",
       "      <td>0.2</td>\n",
       "    </tr>\n",
       "    <tr>\n",
       "      <th>4</th>\n",
       "      <td>5.2</td>\n",
       "      <td>3.5</td>\n",
       "      <td>1.5</td>\n",
       "      <td>0.2</td>\n",
       "    </tr>\n",
       "  </tbody>\n",
       "</table>\n",
       "</div>"
      ],
      "text/plain": [
       "     0    1    2    3\n",
       "0  5.6  2.9  3.6  1.3\n",
       "1  6.4  3.2  4.5  1.5\n",
       "2  5.1  3.8  1.9  0.4\n",
       "3  4.6  3.2  1.4  0.2\n",
       "4  5.2  3.5  1.5  0.2"
      ]
     },
     "execution_count": 8,
     "metadata": {},
     "output_type": "execute_result"
    }
   ],
   "source": [
    "x_test = df_test.iloc[:,:-1]\n",
    "x_test.head(5)"
   ]
  },
  {
   "cell_type": "markdown",
   "metadata": {},
   "source": [
    "### get labels"
   ]
  },
  {
   "cell_type": "code",
   "execution_count": 9,
   "metadata": {},
   "outputs": [
    {
     "data": {
      "text/html": [
       "<div>\n",
       "<style scoped>\n",
       "    .dataframe tbody tr th:only-of-type {\n",
       "        vertical-align: middle;\n",
       "    }\n",
       "\n",
       "    .dataframe tbody tr th {\n",
       "        vertical-align: top;\n",
       "    }\n",
       "\n",
       "    .dataframe thead th {\n",
       "        text-align: right;\n",
       "    }\n",
       "</style>\n",
       "<table border=\"1\" class=\"dataframe\">\n",
       "  <thead>\n",
       "    <tr style=\"text-align: right;\">\n",
       "      <th></th>\n",
       "      <th>4</th>\n",
       "    </tr>\n",
       "  </thead>\n",
       "  <tbody>\n",
       "    <tr>\n",
       "      <th>0</th>\n",
       "      <td>2</td>\n",
       "    </tr>\n",
       "    <tr>\n",
       "      <th>1</th>\n",
       "      <td>0</td>\n",
       "    </tr>\n",
       "    <tr>\n",
       "      <th>2</th>\n",
       "      <td>1</td>\n",
       "    </tr>\n",
       "    <tr>\n",
       "      <th>3</th>\n",
       "      <td>1</td>\n",
       "    </tr>\n",
       "    <tr>\n",
       "      <th>4</th>\n",
       "      <td>1</td>\n",
       "    </tr>\n",
       "  </tbody>\n",
       "</table>\n",
       "</div>"
      ],
      "text/plain": [
       "   4\n",
       "0  2\n",
       "1  0\n",
       "2  1\n",
       "3  1\n",
       "4  1"
      ]
     },
     "execution_count": 9,
     "metadata": {},
     "output_type": "execute_result"
    }
   ],
   "source": [
    "y_train = df_train.iloc[:,-1:]\n",
    "y_train.head(5)"
   ]
  },
  {
   "cell_type": "code",
   "execution_count": 10,
   "metadata": {},
   "outputs": [
    {
     "data": {
      "text/html": [
       "<div>\n",
       "<style scoped>\n",
       "    .dataframe tbody tr th:only-of-type {\n",
       "        vertical-align: middle;\n",
       "    }\n",
       "\n",
       "    .dataframe tbody tr th {\n",
       "        vertical-align: top;\n",
       "    }\n",
       "\n",
       "    .dataframe thead th {\n",
       "        text-align: right;\n",
       "    }\n",
       "</style>\n",
       "<table border=\"1\" class=\"dataframe\">\n",
       "  <thead>\n",
       "    <tr style=\"text-align: right;\">\n",
       "      <th></th>\n",
       "      <th>4</th>\n",
       "    </tr>\n",
       "  </thead>\n",
       "  <tbody>\n",
       "    <tr>\n",
       "      <th>0</th>\n",
       "      <td>1</td>\n",
       "    </tr>\n",
       "    <tr>\n",
       "      <th>1</th>\n",
       "      <td>1</td>\n",
       "    </tr>\n",
       "    <tr>\n",
       "      <th>2</th>\n",
       "      <td>0</td>\n",
       "    </tr>\n",
       "    <tr>\n",
       "      <th>3</th>\n",
       "      <td>0</td>\n",
       "    </tr>\n",
       "    <tr>\n",
       "      <th>4</th>\n",
       "      <td>0</td>\n",
       "    </tr>\n",
       "  </tbody>\n",
       "</table>\n",
       "</div>"
      ],
      "text/plain": [
       "   4\n",
       "0  1\n",
       "1  1\n",
       "2  0\n",
       "3  0\n",
       "4  0"
      ]
     },
     "execution_count": 10,
     "metadata": {},
     "output_type": "execute_result"
    }
   ],
   "source": [
    "y_test = df_test.iloc[:,-1:]\n",
    "y_test.head(5)"
   ]
  },
  {
   "cell_type": "code",
   "execution_count": 11,
   "metadata": {},
   "outputs": [
    {
     "data": {
      "text/plain": [
       "array([[2],\n",
       "       [0],\n",
       "       [1],\n",
       "       [1],\n",
       "       [1]], dtype=int64)"
      ]
     },
     "execution_count": 11,
     "metadata": {},
     "output_type": "execute_result"
    }
   ],
   "source": [
    "y_trainset=y_train.values\n",
    "y_trainset[:5]"
   ]
  },
  {
   "cell_type": "code",
   "execution_count": 12,
   "metadata": {},
   "outputs": [
    {
     "data": {
      "text/plain": [
       "array([[1],\n",
       "       [1],\n",
       "       [0],\n",
       "       [0],\n",
       "       [0]], dtype=int64)"
      ]
     },
     "execution_count": 12,
     "metadata": {},
     "output_type": "execute_result"
    }
   ],
   "source": [
    "y_testset=y_test.values\n",
    "y_testset[:5]"
   ]
  },
  {
   "cell_type": "markdown",
   "metadata": {},
   "source": [
    "###  data normalization"
   ]
  },
  {
   "cell_type": "markdown",
   "metadata": {},
   "source": [
    "#### min max scale"
   ]
  },
  {
   "cell_type": "code",
   "execution_count": 13,
   "metadata": {},
   "outputs": [
    {
     "data": {
      "text/html": [
       "<div>\n",
       "<style scoped>\n",
       "    .dataframe tbody tr th:only-of-type {\n",
       "        vertical-align: middle;\n",
       "    }\n",
       "\n",
       "    .dataframe tbody tr th {\n",
       "        vertical-align: top;\n",
       "    }\n",
       "\n",
       "    .dataframe thead th {\n",
       "        text-align: right;\n",
       "    }\n",
       "</style>\n",
       "<table border=\"1\" class=\"dataframe\">\n",
       "  <thead>\n",
       "    <tr style=\"text-align: right;\">\n",
       "      <th></th>\n",
       "      <th>0</th>\n",
       "      <th>1</th>\n",
       "      <th>2</th>\n",
       "      <th>3</th>\n",
       "    </tr>\n",
       "  </thead>\n",
       "  <tbody>\n",
       "    <tr>\n",
       "      <th>0</th>\n",
       "      <td>0.944444</td>\n",
       "      <td>0.750000</td>\n",
       "      <td>0.965517</td>\n",
       "      <td>0.875000</td>\n",
       "    </tr>\n",
       "    <tr>\n",
       "      <th>1</th>\n",
       "      <td>0.194444</td>\n",
       "      <td>0.583333</td>\n",
       "      <td>0.086207</td>\n",
       "      <td>0.125000</td>\n",
       "    </tr>\n",
       "    <tr>\n",
       "      <th>2</th>\n",
       "      <td>0.666667</td>\n",
       "      <td>0.416667</td>\n",
       "      <td>0.672414</td>\n",
       "      <td>0.666667</td>\n",
       "    </tr>\n",
       "    <tr>\n",
       "      <th>3</th>\n",
       "      <td>0.444444</td>\n",
       "      <td>0.416667</td>\n",
       "      <td>0.534483</td>\n",
       "      <td>0.583333</td>\n",
       "    </tr>\n",
       "    <tr>\n",
       "      <th>4</th>\n",
       "      <td>0.638889</td>\n",
       "      <td>0.375000</td>\n",
       "      <td>0.603448</td>\n",
       "      <td>0.500000</td>\n",
       "    </tr>\n",
       "  </tbody>\n",
       "</table>\n",
       "</div>"
      ],
      "text/plain": [
       "          0         1         2         3\n",
       "0  0.944444  0.750000  0.965517  0.875000\n",
       "1  0.194444  0.583333  0.086207  0.125000\n",
       "2  0.666667  0.416667  0.672414  0.666667\n",
       "3  0.444444  0.416667  0.534483  0.583333\n",
       "4  0.638889  0.375000  0.603448  0.500000"
      ]
     },
     "execution_count": 13,
     "metadata": {},
     "output_type": "execute_result"
    }
   ],
   "source": [
    "x_train = (x_train-x_train.min())/(x_train.max()-x_train.min())\n",
    "x_train.head(5)"
   ]
  },
  {
   "cell_type": "code",
   "execution_count": 14,
   "metadata": {},
   "outputs": [
    {
     "data": {
      "text/plain": [
       "array([[0.94444444, 0.75      , 0.96551724, 0.875     ],\n",
       "       [0.19444444, 0.58333333, 0.0862069 , 0.125     ],\n",
       "       [0.66666667, 0.41666667, 0.67241379, 0.66666667],\n",
       "       [0.44444444, 0.41666667, 0.53448276, 0.58333333],\n",
       "       [0.63888889, 0.375     , 0.60344828, 0.5       ]])"
      ]
     },
     "execution_count": 14,
     "metadata": {},
     "output_type": "execute_result"
    }
   ],
   "source": [
    "x_trainset=x_train.values\n",
    "x_trainset[:5]"
   ]
  },
  {
   "cell_type": "code",
   "execution_count": 15,
   "metadata": {},
   "outputs": [
    {
     "data": {
      "text/html": [
       "<div>\n",
       "<style scoped>\n",
       "    .dataframe tbody tr th:only-of-type {\n",
       "        vertical-align: middle;\n",
       "    }\n",
       "\n",
       "    .dataframe tbody tr th {\n",
       "        vertical-align: top;\n",
       "    }\n",
       "\n",
       "    .dataframe thead th {\n",
       "        text-align: right;\n",
       "    }\n",
       "</style>\n",
       "<table border=\"1\" class=\"dataframe\">\n",
       "  <thead>\n",
       "    <tr style=\"text-align: right;\">\n",
       "      <th></th>\n",
       "      <th>0</th>\n",
       "      <th>1</th>\n",
       "      <th>2</th>\n",
       "      <th>3</th>\n",
       "    </tr>\n",
       "  </thead>\n",
       "  <tbody>\n",
       "    <tr>\n",
       "      <th>0</th>\n",
       "      <td>0.363636</td>\n",
       "      <td>0.35</td>\n",
       "      <td>0.456140</td>\n",
       "      <td>0.500000</td>\n",
       "    </tr>\n",
       "    <tr>\n",
       "      <th>1</th>\n",
       "      <td>0.606061</td>\n",
       "      <td>0.50</td>\n",
       "      <td>0.614035</td>\n",
       "      <td>0.583333</td>\n",
       "    </tr>\n",
       "    <tr>\n",
       "      <th>2</th>\n",
       "      <td>0.212121</td>\n",
       "      <td>0.80</td>\n",
       "      <td>0.157895</td>\n",
       "      <td>0.125000</td>\n",
       "    </tr>\n",
       "    <tr>\n",
       "      <th>3</th>\n",
       "      <td>0.060606</td>\n",
       "      <td>0.50</td>\n",
       "      <td>0.070175</td>\n",
       "      <td>0.041667</td>\n",
       "    </tr>\n",
       "    <tr>\n",
       "      <th>4</th>\n",
       "      <td>0.242424</td>\n",
       "      <td>0.65</td>\n",
       "      <td>0.087719</td>\n",
       "      <td>0.041667</td>\n",
       "    </tr>\n",
       "  </tbody>\n",
       "</table>\n",
       "</div>"
      ],
      "text/plain": [
       "          0     1         2         3\n",
       "0  0.363636  0.35  0.456140  0.500000\n",
       "1  0.606061  0.50  0.614035  0.583333\n",
       "2  0.212121  0.80  0.157895  0.125000\n",
       "3  0.060606  0.50  0.070175  0.041667\n",
       "4  0.242424  0.65  0.087719  0.041667"
      ]
     },
     "execution_count": 15,
     "metadata": {},
     "output_type": "execute_result"
    }
   ],
   "source": [
    "x_test = (x_test-x_test.min())/(x_test.max()-x_test.min())\n",
    "x_test.head(5)"
   ]
  },
  {
   "cell_type": "code",
   "execution_count": 16,
   "metadata": {},
   "outputs": [
    {
     "data": {
      "text/plain": [
       "array([[0.36363636, 0.35      , 0.45614035, 0.5       ],\n",
       "       [0.60606061, 0.5       , 0.61403509, 0.58333333],\n",
       "       [0.21212121, 0.8       , 0.15789474, 0.125     ],\n",
       "       [0.06060606, 0.5       , 0.07017544, 0.04166667],\n",
       "       [0.24242424, 0.65      , 0.0877193 , 0.04166667]])"
      ]
     },
     "execution_count": 16,
     "metadata": {},
     "output_type": "execute_result"
    }
   ],
   "source": [
    "x_testset=x_test.values\n",
    "x_testset[:5]"
   ]
  },
  {
   "cell_type": "markdown",
   "metadata": {},
   "source": [
    "### data handling"
   ]
  },
  {
   "cell_type": "code",
   "execution_count": 17,
   "metadata": {},
   "outputs": [],
   "source": [
    "y = []\n",
    "for i in y_trainset:\n",
    "    y.append(i[0])"
   ]
  },
  {
   "cell_type": "code",
   "execution_count": 18,
   "metadata": {},
   "outputs": [
    {
     "data": {
      "text/plain": [
       "array([[0.94444444, 0.75      , 0.96551724, 0.875     , 2.        ],\n",
       "       [0.19444444, 0.58333333, 0.0862069 , 0.125     , 0.        ],\n",
       "       [0.66666667, 0.41666667, 0.67241379, 0.66666667, 1.        ],\n",
       "       [0.44444444, 0.41666667, 0.53448276, 0.58333333, 1.        ],\n",
       "       [0.63888889, 0.375     , 0.60344828, 0.5       , 1.        ],\n",
       "       [0.22222222, 0.54166667, 0.10344828, 0.16666667, 0.        ],\n",
       "       [0.38888889, 0.33333333, 0.51724138, 0.5       , 1.        ],\n",
       "       [0.19444444, 0.        , 0.4137931 , 0.375     , 1.        ],\n",
       "       [0.72222222, 0.45833333, 0.65517241, 0.58333333, 1.        ],\n",
       "       [0.55555556, 0.20833333, 0.65517241, 0.58333333, 1.        ],\n",
       "       [0.25      , 0.58333333, 0.05172414, 0.04166667, 0.        ],\n",
       "       [0.22222222, 0.75      , 0.06896552, 0.08333333, 0.        ],\n",
       "       [0.77777778, 0.41666667, 0.82758621, 0.83333333, 2.        ],\n",
       "       [0.27777778, 0.70833333, 0.06896552, 0.04166667, 0.        ],\n",
       "       [0.13888889, 0.58333333, 0.13793103, 0.04166667, 0.        ],\n",
       "       [0.22222222, 0.20833333, 0.32758621, 0.41666667, 1.        ],\n",
       "       [0.69444444, 0.33333333, 0.63793103, 0.54166667, 1.        ],\n",
       "       [0.80555556, 0.5       , 0.84482759, 0.70833333, 2.        ],\n",
       "       [0.16666667, 0.45833333, 0.06896552, 0.        , 0.        ],\n",
       "       [0.08333333, 0.45833333, 0.06896552, 0.04166667, 0.        ],\n",
       "       [0.19444444, 0.125     , 0.37931034, 0.375     , 1.        ],\n",
       "       [0.47222222, 0.08333333, 0.5       , 0.375     , 1.        ],\n",
       "       [0.19444444, 0.625     , 0.0862069 , 0.20833333, 0.        ],\n",
       "       [0.19444444, 0.58333333, 0.06896552, 0.04166667, 0.        ],\n",
       "       [0.30555556, 0.79166667, 0.10344828, 0.125     , 0.        ],\n",
       "       [0.05555556, 0.125     , 0.03448276, 0.08333333, 0.        ],\n",
       "       [0.61111111, 0.33333333, 0.60344828, 0.58333333, 1.        ],\n",
       "       [1.        , 0.75      , 0.9137931 , 0.79166667, 2.        ],\n",
       "       [0.47222222, 0.41666667, 0.63793103, 0.70833333, 2.        ],\n",
       "       [0.19444444, 0.54166667, 0.05172414, 0.04166667, 0.        ],\n",
       "       [0.52777778, 0.375     , 0.55172414, 0.5       , 1.        ],\n",
       "       [0.38888889, 1.        , 0.06896552, 0.125     , 0.        ],\n",
       "       [0.41666667, 0.33333333, 0.68965517, 0.95833333, 2.        ],\n",
       "       [0.47222222, 0.375     , 0.5862069 , 0.58333333, 1.        ],\n",
       "       [0.5       , 0.41666667, 0.65517241, 0.70833333, 2.        ],\n",
       "       [0.22222222, 0.625     , 0.05172414, 0.04166667, 0.        ],\n",
       "       [0.13888889, 0.45833333, 0.0862069 , 0.04166667, 0.        ],\n",
       "       [0.        , 0.41666667, 0.        , 0.        , 0.        ],\n",
       "       [0.41666667, 0.29166667, 0.51724138, 0.375     , 1.        ],\n",
       "       [0.38888889, 0.33333333, 0.5862069 , 0.5       , 1.        ],\n",
       "       [0.36111111, 0.20833333, 0.48275862, 0.41666667, 1.        ],\n",
       "       [0.94444444, 0.25      , 1.        , 0.91666667, 2.        ],\n",
       "       [0.16666667, 0.41666667, 0.05172414, 0.04166667, 0.        ],\n",
       "       [0.58333333, 0.5       , 0.72413793, 0.91666667, 2.        ],\n",
       "       [0.33333333, 0.25      , 0.56896552, 0.45833333, 1.        ],\n",
       "       [0.72222222, 0.45833333, 0.74137931, 0.83333333, 2.        ],\n",
       "       [0.19444444, 0.625     , 0.03448276, 0.08333333, 0.        ],\n",
       "       [0.41666667, 0.29166667, 0.68965517, 0.75      , 2.        ],\n",
       "       [0.38888889, 0.75      , 0.10344828, 0.08333333, 0.        ],\n",
       "       [0.66666667, 0.45833333, 0.77586207, 0.95833333, 2.        ],\n",
       "       [0.58333333, 0.45833333, 0.75862069, 0.70833333, 2.        ],\n",
       "       [0.30555556, 0.70833333, 0.06896552, 0.04166667, 0.        ],\n",
       "       [0.72222222, 0.5       , 0.79310345, 0.91666667, 2.        ],\n",
       "       [0.47222222, 0.29166667, 0.68965517, 0.625     , 1.        ],\n",
       "       [0.16666667, 0.45833333, 0.06896552, 0.        , 0.        ],\n",
       "       [0.5       , 0.375     , 0.62068966, 0.54166667, 1.        ],\n",
       "       [0.55555556, 0.58333333, 0.77586207, 0.95833333, 2.        ],\n",
       "       [0.36111111, 0.33333333, 0.65517241, 0.79166667, 2.        ],\n",
       "       [0.5       , 0.41666667, 0.60344828, 0.54166667, 1.        ],\n",
       "       [0.55555556, 0.54166667, 0.84482759, 1.        , 2.        ],\n",
       "       [0.55555556, 0.375     , 0.77586207, 0.70833333, 2.        ],\n",
       "       [0.33333333, 0.16666667, 0.46551724, 0.41666667, 1.        ],\n",
       "       [0.41666667, 0.29166667, 0.68965517, 0.75      , 2.        ],\n",
       "       [0.16666667, 0.16666667, 0.37931034, 0.375     , 1.        ],\n",
       "       [0.44444444, 0.5       , 0.63793103, 0.70833333, 1.        ],\n",
       "       [0.5       , 0.33333333, 0.62068966, 0.45833333, 1.        ],\n",
       "       [0.80555556, 0.41666667, 0.81034483, 0.625     , 2.        ],\n",
       "       [0.52777778, 0.08333333, 0.5862069 , 0.58333333, 1.        ],\n",
       "       [0.25      , 0.29166667, 0.48275862, 0.54166667, 1.        ],\n",
       "       [0.58333333, 0.33333333, 0.77586207, 0.875     , 2.        ],\n",
       "       [0.44444444, 0.41666667, 0.68965517, 0.70833333, 2.        ],\n",
       "       [0.11111111, 0.5       , 0.0862069 , 0.04166667, 0.        ],\n",
       "       [0.02777778, 0.375     , 0.05172414, 0.04166667, 0.        ],\n",
       "       [0.83333333, 0.375     , 0.89655172, 0.70833333, 2.        ],\n",
       "       [0.13888889, 0.58333333, 0.0862069 , 0.04166667, 0.        ],\n",
       "       [0.38888889, 0.375     , 0.53448276, 0.5       , 1.        ],\n",
       "       [0.13888889, 0.41666667, 0.05172414, 0.08333333, 0.        ],\n",
       "       [0.30555556, 0.58333333, 0.10344828, 0.04166667, 0.        ],\n",
       "       [0.33333333, 0.125     , 0.5       , 0.5       , 1.        ],\n",
       "       [0.38888889, 0.20833333, 0.67241379, 0.79166667, 2.        ],\n",
       "       [0.66666667, 0.41666667, 0.70689655, 0.91666667, 2.        ],\n",
       "       [0.66666667, 0.45833333, 0.56896552, 0.54166667, 1.        ],\n",
       "       [0.52777778, 0.33333333, 0.63793103, 0.70833333, 2.        ],\n",
       "       [0.75      , 0.5       , 0.62068966, 0.54166667, 1.        ],\n",
       "       [0.22222222, 0.70833333, 0.06896552, 0.125     , 0.        ],\n",
       "       [0.72222222, 0.45833333, 0.68965517, 0.91666667, 2.        ],\n",
       "       [0.22222222, 0.625     , 0.05172414, 0.08333333, 0.        ],\n",
       "       [0.19444444, 0.66666667, 0.05172414, 0.04166667, 0.        ],\n",
       "       [0.36111111, 0.41666667, 0.51724138, 0.5       , 1.        ],\n",
       "       [0.33333333, 0.20833333, 0.5       , 0.5       , 1.        ],\n",
       "       [0.91666667, 0.41666667, 0.94827586, 0.83333333, 2.        ],\n",
       "       [0.61111111, 0.41666667, 0.81034483, 0.875     , 2.        ],\n",
       "       [0.30555556, 0.79166667, 0.03448276, 0.125     , 0.        ],\n",
       "       [0.52777778, 0.58333333, 0.74137931, 0.91666667, 2.        ],\n",
       "       [0.55555556, 0.54166667, 0.62068966, 0.625     , 1.        ],\n",
       "       [0.19444444, 0.41666667, 0.0862069 , 0.04166667, 0.        ],\n",
       "       [0.61111111, 0.5       , 0.68965517, 0.79166667, 2.        ],\n",
       "       [0.66666667, 0.54166667, 0.79310345, 1.        , 2.        ],\n",
       "       [0.30555556, 0.58333333, 0.06896552, 0.125     , 0.        ],\n",
       "       [0.36111111, 0.41666667, 0.5862069 , 0.58333333, 1.        ]])"
      ]
     },
     "execution_count": 18,
     "metadata": {},
     "output_type": "execute_result"
    }
   ],
   "source": [
    "trainset = np.insert(x_trainset, 4, y, axis=1) \n",
    "trainset"
   ]
  },
  {
   "cell_type": "code",
   "execution_count": 19,
   "metadata": {},
   "outputs": [],
   "source": [
    "yi = []\n",
    "for i in y_testset:\n",
    "    yi.append(i[0])"
   ]
  },
  {
   "cell_type": "code",
   "execution_count": 20,
   "metadata": {},
   "outputs": [
    {
     "data": {
      "text/plain": [
       "array([[0.36363636, 0.35      , 0.45614035, 0.5       , 1.        ],\n",
       "       [0.60606061, 0.5       , 0.61403509, 0.58333333, 1.        ],\n",
       "       [0.21212121, 0.8       , 0.15789474, 0.125     , 0.        ],\n",
       "       [0.06060606, 0.5       , 0.07017544, 0.04166667, 0.        ],\n",
       "       [0.24242424, 0.65      , 0.0877193 , 0.04166667, 0.        ],\n",
       "       [0.15151515, 0.45      , 0.0877193 , 0.        , 0.        ],\n",
       "       [0.90909091, 0.3       , 0.89473684, 0.75      , 2.        ],\n",
       "       [0.39393939, 0.4       , 0.56140351, 0.45833333, 1.        ],\n",
       "       [0.60606061, 0.25      , 0.75438596, 0.75      , 2.        ],\n",
       "       [0.33333333, 1.        , 0.07017544, 0.04166667, 0.        ],\n",
       "       [0.33333333, 0.1       , 0.47368421, 0.375     , 1.        ],\n",
       "       [0.60606061, 0.3       , 0.80701754, 0.83333333, 2.        ],\n",
       "       [0.21212121, 0.6       , 0.0877193 , 0.04166667, 0.        ],\n",
       "       [0.15151515, 0.15      , 0.61403509, 0.66666667, 2.        ],\n",
       "       [0.48484848, 0.6       , 0.61403509, 0.625     , 1.        ],\n",
       "       [0.63636364, 0.4       , 0.78947368, 0.70833333, 2.        ],\n",
       "       [0.06060606, 0.6       , 0.07017544, 0.08333333, 0.        ],\n",
       "       [0.36363636, 0.25      , 0.56140351, 0.5       , 1.        ],\n",
       "       [0.6969697 , 0.45      , 0.64912281, 0.58333333, 1.        ],\n",
       "       [0.63636364, 0.4       , 0.73684211, 0.79166667, 2.        ],\n",
       "       [0.09090909, 0.5       , 0.05263158, 0.04166667, 0.        ],\n",
       "       [0.06060606, 0.7       , 0.        , 0.04166667, 0.        ],\n",
       "       [0.66666667, 0.4       , 0.59649123, 0.54166667, 1.        ],\n",
       "       [0.51515152, 0.2       , 0.80701754, 0.54166667, 2.        ],\n",
       "       [0.39393939, 0.2       , 0.43859649, 0.375     , 1.        ],\n",
       "       [0.42424242, 0.25      , 0.50877193, 0.45833333, 1.        ],\n",
       "       [0.72727273, 0.5       , 0.85964912, 0.91666667, 2.        ],\n",
       "       [1.        , 0.3       , 1.        , 0.79166667, 2.        ],\n",
       "       [0.42424242, 0.9       , 0.03508772, 0.04166667, 0.        ],\n",
       "       [0.57575758, 0.15      , 0.70175439, 0.75      , 2.        ],\n",
       "       [0.24242424, 0.95      , 0.0877193 , 0.        , 0.        ],\n",
       "       [0.        , 0.4       , 0.05263158, 0.04166667, 0.        ],\n",
       "       [0.42424242, 0.2       , 0.52631579, 0.45833333, 1.        ],\n",
       "       [0.18181818, 0.5       , 0.03508772, 0.04166667, 0.        ],\n",
       "       [0.12121212, 0.4       , 0.07017544, 0.        , 0.        ],\n",
       "       [0.48484848, 0.        , 0.70175439, 0.58333333, 2.        ],\n",
       "       [0.57575758, 0.3       , 0.71929825, 0.58333333, 2.        ],\n",
       "       [0.84848485, 0.7       , 0.89473684, 1.        , 2.        ],\n",
       "       [0.33333333, 0.65      , 0.05263158, 0.04166667, 0.        ],\n",
       "       [0.51515152, 0.3       , 0.52631579, 0.5       , 1.        ],\n",
       "       [0.21212121, 0.8       , 0.10526316, 0.04166667, 0.        ],\n",
       "       [0.3030303 , 0.4       , 0.61403509, 0.58333333, 1.        ],\n",
       "       [0.60606061, 0.35      , 0.57894737, 0.5       , 1.        ],\n",
       "       [1.        , 0.4       , 0.89473684, 0.91666667, 2.        ],\n",
       "       [0.57575758, 0.05      , 0.59649123, 0.5       , 1.        ],\n",
       "       [0.57575758, 0.25      , 0.68421053, 0.70833333, 2.        ],\n",
       "       [0.72727273, 0.4       , 0.78947368, 0.83333333, 2.        ],\n",
       "       [0.6969697 , 0.15      , 0.84210526, 0.70833333, 2.        ],\n",
       "       [0.6969697 , 0.55      , 0.8245614 , 0.83333333, 2.        ],\n",
       "       [0.        , 0.5       , 0.05263158, 0.04166667, 0.        ]])"
      ]
     },
     "execution_count": 20,
     "metadata": {},
     "output_type": "execute_result"
    }
   ],
   "source": [
    "testset = np.insert(x_testset, 4, yi , axis =1) \n",
    "testset"
   ]
  },
  {
   "cell_type": "markdown",
   "metadata": {},
   "source": [
    "### trainning"
   ]
  },
  {
   "cell_type": "code",
   "execution_count": 21,
   "metadata": {},
   "outputs": [],
   "source": [
    "def Euclidean_distance(row1, row2):\n",
    "    distance = 0\n",
    "    for i in range(len(row1)-1):\n",
    "        distance += (row1[i] - row2[i])**2\n",
    "    return sqrt(distance)\n",
    "\n",
    "\"\"\"\n",
    "second function we have created is Get_Neighbors with the help of this function we can find out our nearest 3 datapoints.This function shows that the distance between our test data and training row is different.\n",
    "\"\"\"\n",
    "\n",
    "def Get_Neighbors(train, test_row, num):\n",
    "   \n",
    "    distance = list() # []\n",
    "    data = []\n",
    "    for i in train:\n",
    "        dist = Euclidean_distance(test_row, i)\n",
    "        distance.append(dist)\n",
    "        data.append(i)\n",
    "    distance = np.array(distance)\n",
    "    data = np.array(data)\n",
    "\n",
    "    \"\"\" we are finding index of min distance \"\"\"\n",
    "\n",
    "    index_dist = distance.argsort()\n",
    "\n",
    "    \"\"\" we arange our data acco. to index \"\"\"\n",
    "\n",
    "    data  = data[index_dist]\n",
    "\n",
    "    \"\"\" we are slicing num number of datas \"\"\"\n",
    "\n",
    "    neighbors = data[:num]\n",
    "    \n",
    "    return neighbors\n",
    "\n",
    "\"\"\"Here we have created third function Predict_Classification for the prediction of values through our trained model\"\"\"  \n",
    "\n",
    "def predict_classification(train, test_row, num):\n",
    "    Neighbors = Get_Neighbors(train, test_row, num)\n",
    "    Classes = []\n",
    "    for i in Neighbors:\n",
    "        Classes.append(i[-1])\n",
    "    prediction = max(Classes, key= Classes.count)\n",
    "    return prediction\n",
    "\n",
    "\"\"\"We have created Evaluate Function for checking the accuracy of our predicted values \"\"\"\n",
    "\n",
    "def Evaluate(y_true, y_pred):\n",
    "    n_correct = 0\n",
    "    for i in range(len(y_true)):\n",
    "        if y_true[i] == y_pred[i]:\n",
    "            n_correct += 1\n",
    "\n",
    "    acc = n_correct/len(y_true)\n",
    "    \n",
    "    return acc"
   ]
  },
  {
   "cell_type": "markdown",
   "metadata": {},
   "source": [
    "### testing"
   ]
  },
  {
   "cell_type": "code",
   "execution_count": 41,
   "metadata": {},
   "outputs": [
    {
     "name": "stdout",
     "output_type": "stream",
     "text": [
      "Label là: 0.0\n"
     ]
    }
   ],
   "source": [
    "prediction = predict_classification(trainset, testset[9], 4)\n",
    "\n",
    "print(\"Label là:\", prediction)"
   ]
  },
  {
   "cell_type": "markdown",
   "metadata": {},
   "source": [
    "### evaluate"
   ]
  },
  {
   "cell_type": "code",
   "execution_count": 24,
   "metadata": {},
   "outputs": [
    {
     "data": {
      "text/plain": [
       "0.9"
      ]
     },
     "execution_count": 24,
     "metadata": {},
     "output_type": "execute_result"
    }
   ],
   "source": [
    "#created an empty list y_pred where we store all the prediction values.\n",
    "y_pred = []\n",
    "y_true = testset[:, -1]\n",
    "for i in testset:\n",
    "    prediction = predict_classification(trainset, i, 3)\n",
    "    y_pred.append(prediction)\n",
    "\n",
    "Evaluate(y_true, y_pred)"
   ]
  },
  {
   "cell_type": "code",
   "execution_count": 23,
   "metadata": {},
   "outputs": [
    {
     "data": {
      "text/plain": [
       "array([[17,  0,  0],\n",
       "       [ 0, 15,  0],\n",
       "       [ 0,  5, 13]], dtype=int64)"
      ]
     },
     "execution_count": 23,
     "metadata": {},
     "output_type": "execute_result"
    }
   ],
   "source": [
    "from sklearn.metrics import confusion_matrix\n",
    "confusion_matrix(y_true, y_pred)"
   ]
  },
  {
   "cell_type": "code",
   "execution_count": null,
   "metadata": {},
   "outputs": [],
   "source": []
  }
 ],
 "metadata": {
  "kernelspec": {
   "display_name": "Python 3",
   "language": "python",
   "name": "python3"
  },
  "language_info": {
   "codemirror_mode": {
    "name": "ipython",
    "version": 3
   },
   "file_extension": ".py",
   "mimetype": "text/x-python",
   "name": "python",
   "nbconvert_exporter": "python",
   "pygments_lexer": "ipython3",
   "version": "3.7.1"
  }
 },
 "nbformat": 4,
 "nbformat_minor": 5
}
